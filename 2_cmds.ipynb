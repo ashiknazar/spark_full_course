{
 "cells": [
  {
   "cell_type": "markdown",
   "metadata": {},
   "source": [
    "- `spark-shell`\n",
    "- spark ui available at\n",
    "- to work with spark core ,rdd -> we use SC\n",
    "- to use spark sql -> spark session"
   ]
  },
  {
   "cell_type": "markdown",
   "metadata": {},
   "source": [
    "- `val x= sc.textFile(\"README.md\")` use tab to show suggestion (after val x=sc.)\n",
    "   - will create an RDD\n",
    "   - will not do any evaluation\n",
    "- val y= x.map(_.toUpperCase)\n",
    "- y.count\n"
   ]
  },
  {
   "cell_type": "markdown",
   "metadata": {},
   "source": [
    "___"
   ]
  },
  {
   "cell_type": "markdown",
   "metadata": {},
   "source": [
    "- to quit\n",
    "   - ctrl+D\n",
    "   - :quit"
   ]
  },
  {
   "cell_type": "markdown",
   "metadata": {},
   "source": [
    "____"
   ]
  },
  {
   "cell_type": "markdown",
   "metadata": {},
   "source": [
    "____\n"
   ]
  },
  {
   "cell_type": "markdown",
   "metadata": {},
   "source": [
    "#### pyspark"
   ]
  },
  {
   "cell_type": "markdown",
   "metadata": {},
   "source": [
    "- `pyspark`  write on shell"
   ]
  },
  {
   "cell_type": "markdown",
   "metadata": {},
   "source": [
    "- x=sc.textFile(\"README.md\")\n",
    "- x\n",
    "- y=x.map(lambda line: line.toUpperCase)\n",
    "- y\n",
    "- y.collect()\n",
    "\n"
   ]
  },
  {
   "cell_type": "markdown",
   "metadata": {},
   "source": [
    "___\n",
    "- if we have packaged our app in a jar file -> then we can use spark submit\n",
    "1. run application from ide which would interact with spark\n",
    "2. use packaging tools to package our application as jar and then push jar to spark using spark submit"
   ]
  },
  {
   "cell_type": "markdown",
   "metadata": {},
   "source": [
    "___"
   ]
  },
  {
   "cell_type": "markdown",
   "metadata": {},
   "source": []
  }
 ],
 "metadata": {
  "language_info": {
   "name": "python"
  }
 },
 "nbformat": 4,
 "nbformat_minor": 2
}
